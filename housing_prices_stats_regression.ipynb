{
  "nbformat": 4,
  "nbformat_minor": 0,
  "metadata": {
    "colab": {
      "name": "housing_prices_stats_regression.ipynb",
      "version": "0.3.2",
      "provenance": [],
      "collapsed_sections": []
    },
    "kernelspec": {
      "name": "python3",
      "display_name": "Python 3"
    }
  },
  "cells": [
    {
      "cell_type": "code",
      "metadata": {
        "id": "r6liETO6nAht",
        "colab_type": "code",
        "outputId": "5fbf0c5e-cfa7-4c93-f8fc-033c8f763f1c",
        "colab": {
          "base_uri": "https://localhost:8080/",
          "height": 34
        }
      },
      "source": [
        "!git clone https://github.com/emanhamed/Houses-dataset"
      ],
      "execution_count": 15,
      "outputs": [
        {
          "output_type": "stream",
          "text": [
            "fatal: destination path 'Houses-dataset' already exists and is not an empty directory.\n"
          ],
          "name": "stdout"
        }
      ]
    },
    {
      "cell_type": "code",
      "metadata": {
        "id": "lDPaHLLdmGQd",
        "colab_type": "code",
        "colab": {}
      },
      "source": [
        "from sklearn.preprocessing import LabelBinarizer\n",
        "from sklearn.preprocessing import MinMaxScaler\n",
        "import pandas as pd\n",
        "import numpy as np\n",
        "import glob\n",
        "import cv2\n",
        "import os"
      ],
      "execution_count": 0,
      "outputs": []
    },
    {
      "cell_type": "code",
      "metadata": {
        "id": "9XO3XW883Hl4",
        "colab_type": "code",
        "colab": {}
      },
      "source": [
        "from sklearn.model_selection import train_test_split\n",
        "from keras.models import Sequential\n",
        "from keras.layers.normalization import BatchNormalization\n",
        "from keras.layers.convolutional import Conv2D\n",
        "from keras.layers.convolutional import MaxPooling2D\n",
        "from keras.layers.core import Activation\n",
        "from keras.layers.core import Dropout\n",
        "from keras.layers.core import Dense\n",
        "from keras.layers import Flatten\n",
        "from keras.layers import Input\n",
        "from keras.models import Model\n",
        "from keras.optimizers import Adam"
      ],
      "execution_count": 0,
      "outputs": []
    },
    {
      "cell_type": "code",
      "metadata": {
        "id": "pdn5mgPanJcU",
        "colab_type": "code",
        "outputId": "58142286-9481-4574-afdc-c9c3bc2195ba",
        "colab": {
          "base_uri": "https://localhost:8080/",
          "height": 102
        }
      },
      "source": [
        "cwd = os.getcwd()\n",
        "for i, file in enumerate(os.listdir(cwd)):\n",
        "    print(i, file)"
      ],
      "execution_count": 18,
      "outputs": [
        {
          "output_type": "stream",
          "text": [
            "0 .config\n",
            "1 housing_prices_stats_model.h5\n",
            "2 Houses-dataset\n",
            "3 housing_prices_model.h5\n",
            "4 sample_data\n"
          ],
          "name": "stdout"
        }
      ]
    },
    {
      "cell_type": "code",
      "metadata": {
        "id": "ezeSS_wdnQKI",
        "colab_type": "code",
        "outputId": "3e155037-c9d1-4a80-c903-70c2b6a4d5d8",
        "colab": {
          "base_uri": "https://localhost:8080/",
          "height": 34
        }
      },
      "source": [
        "house_jpg_dir = os.path.join(cwd, 'Houses-dataset', 'Houses Dataset')\n",
        "print(f\"{len(os.listdir(house_jpg_dir))} JPG files\")\n",
        "\n",
        "houses_info = os.path.join(cwd, 'Houses-dataset', 'Houses Dataset', 'HousesInfo.txt')"
      ],
      "execution_count": 19,
      "outputs": [
        {
          "output_type": "stream",
          "text": [
            "2141 JPG files\n"
          ],
          "name": "stdout"
        }
      ]
    },
    {
      "cell_type": "code",
      "metadata": {
        "id": "5_D-wE3LnqZq",
        "colab_type": "code",
        "colab": {}
      },
      "source": [
        "# Loading dataset and removing datapoints where there are less than 25 houses\n",
        "# per zip code.\n",
        "def load_house_attributes(inputPath):\n",
        "    cols = [\"bedrooms\", \"bathrooms\", \"area\", \"zipcode\", \"price\"]\n",
        "    df = pd.read_csv(inputPath, sep=' ', header=None, names=cols)\n",
        "    \n",
        "    zipcodes = df['zipcode'].value_counts().keys().tolist()\n",
        "    counts   = df['zipcode'].value_counts().tolist()\n",
        "    #df.head()\n",
        "    \n",
        "    for (zipcode, count) in zip(zipcodes, counts):\n",
        "      \n",
        "        if count < 25:\n",
        "            idxs = df[df['zipcode'] == zipcode].index\n",
        "            df.drop(idxs, inplace=True)\n",
        "            \n",
        "    return df"
      ],
      "execution_count": 0,
      "outputs": []
    },
    {
      "cell_type": "code",
      "metadata": {
        "id": "k-uj8r9M0oSV",
        "colab_type": "code",
        "colab": {}
      },
      "source": [
        "def process_house_attributes(df, train, test):\n",
        "    continuous = ['bedrooms', 'bathrooms', 'area']\n",
        "    \n",
        "    cs               = MinMaxScaler()\n",
        "    train_continuous = cs.fit_transform(train[continuous])\n",
        "    test_continuous  = cs.transform(test[continuous])\n",
        "    \n",
        "    zip_binarizer     = LabelBinarizer().fit(df['zipcode'])\n",
        "    train_categorical = zip_binarizer.transform(train['zipcode'])\n",
        "    test_categorical  = zip_binarizer.transform(test['zipcode'])\n",
        "    \n",
        "    train_X = np.hstack([train_categorical, train_continuous])\n",
        "    test_X  = np.hstack([test_categorical, test_continuous])\n",
        "    \n",
        "    return (train_X, test_X)"
      ],
      "execution_count": 0,
      "outputs": []
    },
    {
      "cell_type": "code",
      "metadata": {
        "id": "6KJVk8h53uTb",
        "colab_type": "code",
        "colab": {}
      },
      "source": [
        "def create_mlp(dim, regress=False):\n",
        "    model = Sequential()\n",
        "    model.add(Dense(8, input_dim=dim, activation='relu'))\n",
        "    model.add(Dense(4, activation='relu'))\n",
        "    \n",
        "    if regress:\n",
        "        model.add(Dense(1, activation='linear'))\n",
        "        \n",
        "    return model"
      ],
      "execution_count": 0,
      "outputs": []
    },
    {
      "cell_type": "code",
      "metadata": {
        "id": "ws1GTQ4T4VHT",
        "colab_type": "code",
        "outputId": "bb0d1459-843d-459c-ff20-b81d59d25318",
        "colab": {
          "base_uri": "https://localhost:8080/",
          "height": 34
        }
      },
      "source": [
        "df = load_house_attributes(houses_info)\n",
        "\n",
        "(train, test) = train_test_split(df, test_size=0.25, random_state=42)\n",
        "\n",
        "max_price = train['price'].max()\n",
        "train_y   = train['price'] / max_price\n",
        "test_y    = test['price'] / max_price\n",
        "print(f\"Max price: {max_price}\")"
      ],
      "execution_count": 23,
      "outputs": [
        {
          "output_type": "stream",
          "text": [
            "Max price: 5858000.0\n"
          ],
          "name": "stdout"
        }
      ]
    },
    {
      "cell_type": "code",
      "metadata": {
        "id": "InUS7nkq4hu2",
        "colab_type": "code",
        "colab": {}
      },
      "source": [
        "(train_X, test_X) = process_house_attributes(df, train, test)"
      ],
      "execution_count": 0,
      "outputs": []
    },
    {
      "cell_type": "code",
      "metadata": {
        "id": "1ujUAwwu5uzS",
        "colab_type": "code",
        "outputId": "755e1d0f-b0e4-4620-b9ed-4e4e1683d2b2",
        "colab": {
          "base_uri": "https://localhost:8080/",
          "height": 238
        }
      },
      "source": [
        "model = create_mlp(train_X.shape[1], regress=True)\n",
        "model.summary()"
      ],
      "execution_count": 25,
      "outputs": [
        {
          "output_type": "stream",
          "text": [
            "_________________________________________________________________\n",
            "Layer (type)                 Output Shape              Param #   \n",
            "=================================================================\n",
            "dense_4 (Dense)              (None, 8)                 88        \n",
            "_________________________________________________________________\n",
            "dense_5 (Dense)              (None, 4)                 36        \n",
            "_________________________________________________________________\n",
            "dense_6 (Dense)              (None, 1)                 5         \n",
            "=================================================================\n",
            "Total params: 129\n",
            "Trainable params: 129\n",
            "Non-trainable params: 0\n",
            "_________________________________________________________________\n"
          ],
          "name": "stdout"
        }
      ]
    },
    {
      "cell_type": "code",
      "metadata": {
        "id": "6icrppPC6E9b",
        "colab_type": "code",
        "outputId": "ae673390-de3a-42b4-ab98-f23b061fa2a7",
        "colab": {
          "base_uri": "https://localhost:8080/",
          "height": 1000
        }
      },
      "source": [
        "opt = Adam(lr=1e-3, decay=1e-3 / 200)\n",
        "model.compile(loss=\"mean_absolute_percentage_error\", optimizer=opt)\n",
        "\n",
        "model.fit(train_X,\n",
        "          train_y,\n",
        "          validation_data=(test_X, test_y),\n",
        "          epochs=200,\n",
        "          batch_size=8)\n"
      ],
      "execution_count": 26,
      "outputs": [
        {
          "output_type": "stream",
          "text": [
            "Train on 271 samples, validate on 91 samples\n",
            "Epoch 1/200\n",
            "271/271 [==============================] - 0s 1ms/step - loss: 387.7268 - val_loss: 180.6732\n",
            "Epoch 2/200\n",
            "271/271 [==============================] - 0s 183us/step - loss: 123.8931 - val_loss: 98.3965\n",
            "Epoch 3/200\n",
            "271/271 [==============================] - 0s 196us/step - loss: 76.7719 - val_loss: 78.6968\n",
            "Epoch 4/200\n",
            "271/271 [==============================] - 0s 202us/step - loss: 64.3747 - val_loss: 67.5734\n",
            "Epoch 5/200\n",
            "271/271 [==============================] - 0s 169us/step - loss: 58.6875 - val_loss: 59.8533\n",
            "Epoch 6/200\n",
            "271/271 [==============================] - 0s 179us/step - loss: 55.5463 - val_loss: 53.6864\n",
            "Epoch 7/200\n",
            "271/271 [==============================] - 0s 179us/step - loss: 47.6688 - val_loss: 48.0923\n",
            "Epoch 8/200\n",
            "271/271 [==============================] - 0s 170us/step - loss: 44.5377 - val_loss: 46.1539\n",
            "Epoch 9/200\n",
            "271/271 [==============================] - 0s 181us/step - loss: 43.0114 - val_loss: 47.7090\n",
            "Epoch 10/200\n",
            "271/271 [==============================] - 0s 190us/step - loss: 43.4902 - val_loss: 43.9730\n",
            "Epoch 11/200\n",
            "271/271 [==============================] - 0s 187us/step - loss: 40.4708 - val_loss: 41.5020\n",
            "Epoch 12/200\n",
            "271/271 [==============================] - 0s 193us/step - loss: 41.1302 - val_loss: 40.1577\n",
            "Epoch 13/200\n",
            "271/271 [==============================] - 0s 182us/step - loss: 38.1145 - val_loss: 39.8295\n",
            "Epoch 14/200\n",
            "271/271 [==============================] - 0s 194us/step - loss: 38.4596 - val_loss: 37.3711\n",
            "Epoch 15/200\n",
            "271/271 [==============================] - 0s 189us/step - loss: 41.1059 - val_loss: 41.6743\n",
            "Epoch 16/200\n",
            "271/271 [==============================] - 0s 188us/step - loss: 36.4044 - val_loss: 33.5163\n",
            "Epoch 17/200\n",
            "271/271 [==============================] - 0s 266us/step - loss: 35.4124 - val_loss: 33.2715\n",
            "Epoch 18/200\n",
            "271/271 [==============================] - 0s 176us/step - loss: 32.7751 - val_loss: 33.2007\n",
            "Epoch 19/200\n",
            "271/271 [==============================] - 0s 193us/step - loss: 32.3943 - val_loss: 30.4383\n",
            "Epoch 20/200\n",
            "271/271 [==============================] - 0s 191us/step - loss: 31.5229 - val_loss: 28.0683\n",
            "Epoch 21/200\n",
            "271/271 [==============================] - 0s 200us/step - loss: 33.3700 - val_loss: 27.8335\n",
            "Epoch 22/200\n",
            "271/271 [==============================] - 0s 193us/step - loss: 28.4999 - val_loss: 26.2609\n",
            "Epoch 23/200\n",
            "271/271 [==============================] - 0s 171us/step - loss: 29.1048 - val_loss: 30.4656\n",
            "Epoch 24/200\n",
            "271/271 [==============================] - 0s 181us/step - loss: 29.0494 - val_loss: 25.0894\n",
            "Epoch 25/200\n",
            "271/271 [==============================] - 0s 179us/step - loss: 27.9132 - val_loss: 23.8769\n",
            "Epoch 26/200\n",
            "271/271 [==============================] - 0s 177us/step - loss: 27.7128 - val_loss: 26.4223\n",
            "Epoch 27/200\n",
            "271/271 [==============================] - 0s 179us/step - loss: 26.6906 - val_loss: 26.1883\n",
            "Epoch 28/200\n",
            "271/271 [==============================] - 0s 162us/step - loss: 28.5745 - val_loss: 22.9452\n",
            "Epoch 29/200\n",
            "271/271 [==============================] - 0s 185us/step - loss: 26.8637 - val_loss: 23.6521\n",
            "Epoch 30/200\n",
            "271/271 [==============================] - 0s 196us/step - loss: 25.9095 - val_loss: 22.7964\n",
            "Epoch 31/200\n",
            "271/271 [==============================] - 0s 189us/step - loss: 25.7598 - val_loss: 21.8989\n",
            "Epoch 32/200\n",
            "271/271 [==============================] - 0s 168us/step - loss: 24.8376 - val_loss: 21.1146\n",
            "Epoch 33/200\n",
            "271/271 [==============================] - 0s 181us/step - loss: 27.5436 - val_loss: 21.5607\n",
            "Epoch 34/200\n",
            "271/271 [==============================] - 0s 186us/step - loss: 27.4007 - val_loss: 21.5831\n",
            "Epoch 35/200\n",
            "271/271 [==============================] - 0s 185us/step - loss: 25.5634 - val_loss: 24.6093\n",
            "Epoch 36/200\n",
            "271/271 [==============================] - 0s 170us/step - loss: 24.7815 - val_loss: 22.3069\n",
            "Epoch 37/200\n",
            "271/271 [==============================] - 0s 175us/step - loss: 24.6910 - val_loss: 24.5056\n",
            "Epoch 38/200\n",
            "271/271 [==============================] - 0s 189us/step - loss: 27.2340 - val_loss: 22.6043\n",
            "Epoch 39/200\n",
            "271/271 [==============================] - 0s 182us/step - loss: 26.7934 - val_loss: 27.9665\n",
            "Epoch 40/200\n",
            "271/271 [==============================] - 0s 161us/step - loss: 25.7193 - val_loss: 23.6425\n",
            "Epoch 41/200\n",
            "271/271 [==============================] - 0s 184us/step - loss: 24.1276 - val_loss: 21.1534\n",
            "Epoch 42/200\n",
            "271/271 [==============================] - 0s 172us/step - loss: 24.5526 - val_loss: 28.2744\n",
            "Epoch 43/200\n",
            "271/271 [==============================] - 0s 175us/step - loss: 25.6559 - val_loss: 22.2194\n",
            "Epoch 44/200\n",
            "271/271 [==============================] - 0s 186us/step - loss: 25.6844 - val_loss: 21.0555\n",
            "Epoch 45/200\n",
            "271/271 [==============================] - 0s 180us/step - loss: 26.1518 - val_loss: 23.2021\n",
            "Epoch 46/200\n",
            "271/271 [==============================] - 0s 190us/step - loss: 24.9263 - val_loss: 25.3974\n",
            "Epoch 47/200\n",
            "271/271 [==============================] - 0s 157us/step - loss: 25.1473 - val_loss: 23.8587\n",
            "Epoch 48/200\n",
            "271/271 [==============================] - 0s 166us/step - loss: 23.5978 - val_loss: 24.1046\n",
            "Epoch 49/200\n",
            "271/271 [==============================] - 0s 173us/step - loss: 24.3937 - val_loss: 21.0421\n",
            "Epoch 50/200\n",
            "271/271 [==============================] - 0s 174us/step - loss: 25.1487 - val_loss: 22.2377\n",
            "Epoch 51/200\n",
            "271/271 [==============================] - 0s 195us/step - loss: 22.3881 - val_loss: 21.9175\n",
            "Epoch 52/200\n",
            "271/271 [==============================] - 0s 175us/step - loss: 23.4176 - val_loss: 21.7006\n",
            "Epoch 53/200\n",
            "271/271 [==============================] - 0s 154us/step - loss: 27.4611 - val_loss: 25.1440\n",
            "Epoch 54/200\n",
            "271/271 [==============================] - 0s 196us/step - loss: 23.4230 - val_loss: 23.7589\n",
            "Epoch 55/200\n",
            "271/271 [==============================] - 0s 161us/step - loss: 23.3184 - val_loss: 27.1700\n",
            "Epoch 56/200\n",
            "271/271 [==============================] - 0s 216us/step - loss: 23.8112 - val_loss: 22.3787\n",
            "Epoch 57/200\n",
            "271/271 [==============================] - 0s 176us/step - loss: 24.5672 - val_loss: 22.0752\n",
            "Epoch 58/200\n",
            "271/271 [==============================] - 0s 174us/step - loss: 23.4575 - val_loss: 23.5138\n",
            "Epoch 59/200\n",
            "271/271 [==============================] - 0s 174us/step - loss: 22.9911 - val_loss: 24.8959\n",
            "Epoch 60/200\n",
            "271/271 [==============================] - 0s 178us/step - loss: 23.7868 - val_loss: 22.9796\n",
            "Epoch 61/200\n",
            "271/271 [==============================] - 0s 184us/step - loss: 23.4396 - val_loss: 23.3044\n",
            "Epoch 62/200\n",
            "271/271 [==============================] - 0s 242us/step - loss: 21.8411 - val_loss: 20.8587\n",
            "Epoch 63/200\n",
            "271/271 [==============================] - 0s 166us/step - loss: 22.9467 - val_loss: 25.5947\n",
            "Epoch 64/200\n",
            "271/271 [==============================] - 0s 169us/step - loss: 23.0040 - val_loss: 22.5038\n",
            "Epoch 65/200\n",
            "271/271 [==============================] - 0s 170us/step - loss: 22.1035 - val_loss: 23.4971\n",
            "Epoch 66/200\n",
            "271/271 [==============================] - 0s 182us/step - loss: 22.4612 - val_loss: 24.0407\n",
            "Epoch 67/200\n",
            "271/271 [==============================] - 0s 175us/step - loss: 22.1486 - val_loss: 22.7319\n",
            "Epoch 68/200\n",
            "271/271 [==============================] - 0s 189us/step - loss: 23.2094 - val_loss: 25.7320\n",
            "Epoch 69/200\n",
            "271/271 [==============================] - 0s 163us/step - loss: 22.6907 - val_loss: 25.2280\n",
            "Epoch 70/200\n",
            "271/271 [==============================] - 0s 177us/step - loss: 23.0410 - val_loss: 22.5984\n",
            "Epoch 71/200\n",
            "271/271 [==============================] - 0s 191us/step - loss: 21.1910 - val_loss: 24.1833\n",
            "Epoch 72/200\n",
            "271/271 [==============================] - 0s 171us/step - loss: 23.2652 - val_loss: 21.7297\n",
            "Epoch 73/200\n",
            "271/271 [==============================] - 0s 172us/step - loss: 21.4163 - val_loss: 26.5093\n",
            "Epoch 74/200\n",
            "271/271 [==============================] - 0s 190us/step - loss: 22.2034 - val_loss: 24.5400\n",
            "Epoch 75/200\n",
            "271/271 [==============================] - 0s 177us/step - loss: 21.2259 - val_loss: 24.0097\n",
            "Epoch 76/200\n",
            "271/271 [==============================] - 0s 180us/step - loss: 21.7052 - val_loss: 23.5353\n",
            "Epoch 77/200\n",
            "271/271 [==============================] - 0s 183us/step - loss: 21.8032 - val_loss: 24.9538\n",
            "Epoch 78/200\n",
            "271/271 [==============================] - 0s 193us/step - loss: 24.7810 - val_loss: 25.8928\n",
            "Epoch 79/200\n",
            "271/271 [==============================] - 0s 173us/step - loss: 24.7619 - val_loss: 29.9444\n",
            "Epoch 80/200\n",
            "271/271 [==============================] - 0s 223us/step - loss: 21.7992 - val_loss: 23.6522\n",
            "Epoch 81/200\n",
            "271/271 [==============================] - 0s 174us/step - loss: 20.2648 - val_loss: 23.9063\n",
            "Epoch 82/200\n",
            "271/271 [==============================] - 0s 173us/step - loss: 23.2542 - val_loss: 29.2845\n",
            "Epoch 83/200\n",
            "271/271 [==============================] - 0s 168us/step - loss: 23.2970 - val_loss: 23.5228\n",
            "Epoch 84/200\n",
            "271/271 [==============================] - 0s 172us/step - loss: 21.5010 - val_loss: 23.5973\n",
            "Epoch 85/200\n",
            "271/271 [==============================] - 0s 200us/step - loss: 22.0725 - val_loss: 24.1472\n",
            "Epoch 86/200\n",
            "271/271 [==============================] - 0s 193us/step - loss: 21.0554 - val_loss: 26.1899\n",
            "Epoch 87/200\n",
            "271/271 [==============================] - 0s 172us/step - loss: 22.1749 - val_loss: 24.4891\n",
            "Epoch 88/200\n",
            "271/271 [==============================] - 0s 176us/step - loss: 21.1069 - val_loss: 24.1745\n",
            "Epoch 89/200\n",
            "271/271 [==============================] - 0s 160us/step - loss: 20.5050 - val_loss: 24.8163\n",
            "Epoch 90/200\n",
            "271/271 [==============================] - 0s 204us/step - loss: 21.6980 - val_loss: 24.6115\n",
            "Epoch 91/200\n",
            "271/271 [==============================] - 0s 176us/step - loss: 22.4125 - val_loss: 23.2810\n",
            "Epoch 92/200\n",
            "271/271 [==============================] - 0s 163us/step - loss: 20.9479 - val_loss: 24.2100\n",
            "Epoch 93/200\n",
            "271/271 [==============================] - 0s 189us/step - loss: 20.3553 - val_loss: 25.0548\n",
            "Epoch 94/200\n",
            "271/271 [==============================] - 0s 178us/step - loss: 26.0092 - val_loss: 24.9861\n",
            "Epoch 95/200\n",
            "271/271 [==============================] - 0s 185us/step - loss: 20.2970 - val_loss: 26.5474\n",
            "Epoch 96/200\n",
            "271/271 [==============================] - 0s 191us/step - loss: 22.3233 - val_loss: 25.5244\n",
            "Epoch 97/200\n",
            "271/271 [==============================] - 0s 190us/step - loss: 20.9330 - val_loss: 25.5036\n",
            "Epoch 98/200\n",
            "271/271 [==============================] - 0s 162us/step - loss: 20.5293 - val_loss: 24.6324\n",
            "Epoch 99/200\n",
            "271/271 [==============================] - 0s 176us/step - loss: 20.4374 - val_loss: 24.4321\n",
            "Epoch 100/200\n",
            "271/271 [==============================] - 0s 185us/step - loss: 23.1699 - val_loss: 24.4166\n",
            "Epoch 101/200\n",
            "271/271 [==============================] - 0s 199us/step - loss: 20.5862 - val_loss: 25.0539\n",
            "Epoch 102/200\n",
            "271/271 [==============================] - 0s 275us/step - loss: 21.1839 - val_loss: 27.1750\n",
            "Epoch 103/200\n",
            "271/271 [==============================] - 0s 181us/step - loss: 21.9286 - val_loss: 24.1524\n",
            "Epoch 104/200\n",
            "271/271 [==============================] - 0s 177us/step - loss: 21.5015 - val_loss: 24.9933\n",
            "Epoch 105/200\n",
            "271/271 [==============================] - 0s 177us/step - loss: 23.2002 - val_loss: 26.5881\n",
            "Epoch 106/200\n",
            "271/271 [==============================] - 0s 180us/step - loss: 21.8454 - val_loss: 26.4738\n",
            "Epoch 107/200\n",
            "271/271 [==============================] - 0s 157us/step - loss: 22.4677 - val_loss: 25.2018\n",
            "Epoch 108/200\n",
            "271/271 [==============================] - 0s 192us/step - loss: 22.4237 - val_loss: 24.1441\n",
            "Epoch 109/200\n",
            "271/271 [==============================] - 0s 167us/step - loss: 20.0653 - val_loss: 24.8474\n",
            "Epoch 110/200\n",
            "271/271 [==============================] - 0s 190us/step - loss: 21.7154 - val_loss: 26.0616\n",
            "Epoch 111/200\n",
            "271/271 [==============================] - 0s 164us/step - loss: 21.2250 - val_loss: 23.6978\n",
            "Epoch 112/200\n",
            "271/271 [==============================] - 0s 164us/step - loss: 20.5411 - val_loss: 24.5324\n",
            "Epoch 113/200\n",
            "271/271 [==============================] - 0s 168us/step - loss: 20.5687 - val_loss: 24.5610\n",
            "Epoch 114/200\n",
            "271/271 [==============================] - 0s 181us/step - loss: 20.9861 - val_loss: 24.9363\n",
            "Epoch 115/200\n",
            "271/271 [==============================] - 0s 181us/step - loss: 21.2855 - val_loss: 25.1392\n",
            "Epoch 116/200\n",
            "271/271 [==============================] - 0s 190us/step - loss: 19.8920 - val_loss: 24.6463\n",
            "Epoch 117/200\n",
            "271/271 [==============================] - 0s 162us/step - loss: 19.6143 - val_loss: 24.8506\n",
            "Epoch 118/200\n",
            "271/271 [==============================] - 0s 179us/step - loss: 21.3158 - val_loss: 27.1749\n",
            "Epoch 119/200\n",
            "271/271 [==============================] - 0s 191us/step - loss: 20.2209 - val_loss: 24.8003\n",
            "Epoch 120/200\n",
            "271/271 [==============================] - 0s 180us/step - loss: 19.3805 - val_loss: 24.0740\n",
            "Epoch 121/200\n",
            "271/271 [==============================] - 0s 186us/step - loss: 20.2507 - val_loss: 25.3009\n",
            "Epoch 122/200\n",
            "271/271 [==============================] - 0s 182us/step - loss: 21.2535 - val_loss: 28.1844\n",
            "Epoch 123/200\n",
            "271/271 [==============================] - 0s 181us/step - loss: 21.3609 - val_loss: 24.5434\n",
            "Epoch 124/200\n",
            "271/271 [==============================] - 0s 194us/step - loss: 20.0585 - val_loss: 25.5028\n",
            "Epoch 125/200\n",
            "271/271 [==============================] - 0s 175us/step - loss: 23.9454 - val_loss: 33.0139\n",
            "Epoch 126/200\n",
            "271/271 [==============================] - 0s 171us/step - loss: 23.9699 - val_loss: 24.4154\n",
            "Epoch 127/200\n",
            "271/271 [==============================] - 0s 166us/step - loss: 20.2074 - val_loss: 25.9792\n",
            "Epoch 128/200\n",
            "271/271 [==============================] - 0s 178us/step - loss: 21.9457 - val_loss: 27.3389\n",
            "Epoch 129/200\n",
            "271/271 [==============================] - 0s 181us/step - loss: 23.3536 - val_loss: 25.2126\n",
            "Epoch 130/200\n",
            "271/271 [==============================] - 0s 187us/step - loss: 21.4371 - val_loss: 33.1891\n",
            "Epoch 131/200\n",
            "271/271 [==============================] - 0s 196us/step - loss: 22.8857 - val_loss: 26.2425\n",
            "Epoch 132/200\n",
            "271/271 [==============================] - 0s 186us/step - loss: 20.0652 - val_loss: 24.7580\n",
            "Epoch 133/200\n",
            "271/271 [==============================] - 0s 164us/step - loss: 22.3244 - val_loss: 27.0728\n",
            "Epoch 134/200\n",
            "271/271 [==============================] - 0s 172us/step - loss: 22.0990 - val_loss: 25.1535\n",
            "Epoch 135/200\n",
            "271/271 [==============================] - 0s 197us/step - loss: 19.2993 - val_loss: 25.3780\n",
            "Epoch 136/200\n",
            "271/271 [==============================] - 0s 178us/step - loss: 21.3391 - val_loss: 24.8585\n",
            "Epoch 137/200\n",
            "271/271 [==============================] - 0s 182us/step - loss: 19.7512 - val_loss: 23.4560\n",
            "Epoch 138/200\n",
            "271/271 [==============================] - 0s 182us/step - loss: 21.3792 - val_loss: 25.8865\n",
            "Epoch 139/200\n",
            "271/271 [==============================] - 0s 188us/step - loss: 20.4266 - val_loss: 24.4327\n",
            "Epoch 140/200\n",
            "271/271 [==============================] - 0s 184us/step - loss: 20.4809 - val_loss: 25.9166\n",
            "Epoch 141/200\n",
            "271/271 [==============================] - 0s 184us/step - loss: 20.6918 - val_loss: 27.2660\n",
            "Epoch 142/200\n",
            "271/271 [==============================] - 0s 173us/step - loss: 22.8278 - val_loss: 24.6660\n",
            "Epoch 143/200\n",
            "271/271 [==============================] - 0s 173us/step - loss: 19.8815 - val_loss: 26.1735\n",
            "Epoch 144/200\n",
            "271/271 [==============================] - 0s 166us/step - loss: 21.7838 - val_loss: 25.3037\n",
            "Epoch 145/200\n",
            "271/271 [==============================] - 0s 172us/step - loss: 20.1506 - val_loss: 24.3357\n",
            "Epoch 146/200\n",
            "271/271 [==============================] - 0s 183us/step - loss: 20.8629 - val_loss: 24.1101\n",
            "Epoch 147/200\n",
            "271/271 [==============================] - 0s 163us/step - loss: 20.0650 - val_loss: 32.1438\n",
            "Epoch 148/200\n",
            "271/271 [==============================] - 0s 181us/step - loss: 20.5436 - val_loss: 24.7715\n",
            "Epoch 149/200\n",
            "271/271 [==============================] - 0s 185us/step - loss: 22.9962 - val_loss: 28.4446\n",
            "Epoch 150/200\n",
            "271/271 [==============================] - 0s 191us/step - loss: 21.6248 - val_loss: 27.5194\n",
            "Epoch 151/200\n",
            "271/271 [==============================] - 0s 165us/step - loss: 20.0186 - val_loss: 24.3579\n",
            "Epoch 152/200\n",
            "271/271 [==============================] - 0s 183us/step - loss: 21.0811 - val_loss: 24.7559\n",
            "Epoch 153/200\n",
            "271/271 [==============================] - 0s 166us/step - loss: 21.8571 - val_loss: 23.5912\n",
            "Epoch 154/200\n",
            "271/271 [==============================] - 0s 198us/step - loss: 20.0954 - val_loss: 26.6638\n",
            "Epoch 155/200\n",
            "271/271 [==============================] - 0s 203us/step - loss: 20.5463 - val_loss: 25.6609\n",
            "Epoch 156/200\n",
            "271/271 [==============================] - 0s 187us/step - loss: 22.4348 - val_loss: 26.2463\n",
            "Epoch 157/200\n",
            "271/271 [==============================] - 0s 174us/step - loss: 20.0460 - val_loss: 25.3478\n",
            "Epoch 158/200\n",
            "271/271 [==============================] - 0s 176us/step - loss: 19.2826 - val_loss: 26.4590\n",
            "Epoch 159/200\n",
            "271/271 [==============================] - 0s 210us/step - loss: 21.3416 - val_loss: 26.0239\n",
            "Epoch 160/200\n",
            "271/271 [==============================] - 0s 172us/step - loss: 19.7586 - val_loss: 26.8945\n",
            "Epoch 161/200\n",
            "271/271 [==============================] - 0s 160us/step - loss: 19.8875 - val_loss: 24.3587\n",
            "Epoch 162/200\n",
            "271/271 [==============================] - 0s 196us/step - loss: 19.8854 - val_loss: 30.6417\n",
            "Epoch 163/200\n",
            "271/271 [==============================] - 0s 175us/step - loss: 24.2002 - val_loss: 23.6677\n",
            "Epoch 164/200\n",
            "271/271 [==============================] - 0s 178us/step - loss: 19.1117 - val_loss: 25.8291\n",
            "Epoch 165/200\n",
            "271/271 [==============================] - 0s 187us/step - loss: 19.8983 - val_loss: 25.9423\n",
            "Epoch 166/200\n",
            "271/271 [==============================] - 0s 186us/step - loss: 20.2058 - val_loss: 25.0182\n",
            "Epoch 167/200\n",
            "271/271 [==============================] - 0s 188us/step - loss: 19.8696 - val_loss: 25.7484\n",
            "Epoch 168/200\n",
            "271/271 [==============================] - 0s 162us/step - loss: 19.7163 - val_loss: 24.1255\n",
            "Epoch 169/200\n",
            "271/271 [==============================] - 0s 170us/step - loss: 20.3229 - val_loss: 25.7580\n",
            "Epoch 170/200\n",
            "271/271 [==============================] - 0s 170us/step - loss: 20.1614 - val_loss: 25.3678\n",
            "Epoch 171/200\n",
            "271/271 [==============================] - 0s 170us/step - loss: 20.7419 - val_loss: 31.4709\n",
            "Epoch 172/200\n",
            "271/271 [==============================] - 0s 170us/step - loss: 21.6202 - val_loss: 25.4502\n",
            "Epoch 173/200\n",
            "271/271 [==============================] - 0s 195us/step - loss: 19.5787 - val_loss: 25.6469\n",
            "Epoch 174/200\n",
            "271/271 [==============================] - 0s 174us/step - loss: 20.4409 - val_loss: 24.5461\n",
            "Epoch 175/200\n",
            "271/271 [==============================] - 0s 171us/step - loss: 20.4066 - val_loss: 25.1566\n",
            "Epoch 176/200\n",
            "271/271 [==============================] - 0s 184us/step - loss: 19.9383 - val_loss: 25.1181\n",
            "Epoch 177/200\n",
            "271/271 [==============================] - 0s 198us/step - loss: 19.6105 - val_loss: 23.3248\n",
            "Epoch 178/200\n",
            "271/271 [==============================] - 0s 175us/step - loss: 20.5095 - val_loss: 27.3000\n",
            "Epoch 179/200\n",
            "271/271 [==============================] - 0s 181us/step - loss: 21.1832 - val_loss: 24.6701\n",
            "Epoch 180/200\n",
            "271/271 [==============================] - 0s 188us/step - loss: 19.6105 - val_loss: 24.6553\n",
            "Epoch 181/200\n",
            "271/271 [==============================] - 0s 186us/step - loss: 20.0128 - val_loss: 24.1367\n",
            "Epoch 182/200\n",
            "271/271 [==============================] - 0s 165us/step - loss: 20.8155 - val_loss: 26.1809\n",
            "Epoch 183/200\n",
            "271/271 [==============================] - 0s 190us/step - loss: 20.6895 - val_loss: 26.0267\n",
            "Epoch 184/200\n",
            "271/271 [==============================] - 0s 166us/step - loss: 19.8778 - val_loss: 24.8855\n",
            "Epoch 185/200\n",
            "271/271 [==============================] - 0s 203us/step - loss: 19.8893 - val_loss: 24.0459\n",
            "Epoch 186/200\n",
            "271/271 [==============================] - 0s 169us/step - loss: 20.0842 - val_loss: 24.4000\n",
            "Epoch 187/200\n",
            "271/271 [==============================] - 0s 186us/step - loss: 20.3185 - val_loss: 25.4801\n",
            "Epoch 188/200\n",
            "271/271 [==============================] - 0s 181us/step - loss: 20.2903 - val_loss: 24.0771\n",
            "Epoch 189/200\n",
            "271/271 [==============================] - 0s 214us/step - loss: 22.4861 - val_loss: 27.2827\n",
            "Epoch 190/200\n",
            "271/271 [==============================] - 0s 177us/step - loss: 21.3519 - val_loss: 23.6938\n",
            "Epoch 191/200\n",
            "271/271 [==============================] - 0s 173us/step - loss: 20.1441 - val_loss: 28.6491\n",
            "Epoch 192/200\n",
            "271/271 [==============================] - 0s 170us/step - loss: 21.4609 - val_loss: 25.0222\n",
            "Epoch 193/200\n",
            "271/271 [==============================] - 0s 190us/step - loss: 20.9120 - val_loss: 23.9812\n",
            "Epoch 194/200\n",
            "271/271 [==============================] - 0s 213us/step - loss: 20.7857 - val_loss: 26.2190\n",
            "Epoch 195/200\n",
            "271/271 [==============================] - 0s 169us/step - loss: 19.5596 - val_loss: 24.5202\n",
            "Epoch 196/200\n",
            "271/271 [==============================] - 0s 172us/step - loss: 20.3663 - val_loss: 25.4541\n",
            "Epoch 197/200\n",
            "271/271 [==============================] - 0s 190us/step - loss: 19.7094 - val_loss: 24.4668\n",
            "Epoch 198/200\n",
            "271/271 [==============================] - 0s 166us/step - loss: 19.9460 - val_loss: 27.8628\n",
            "Epoch 199/200\n",
            "271/271 [==============================] - 0s 205us/step - loss: 20.7335 - val_loss: 26.9593\n",
            "Epoch 200/200\n",
            "271/271 [==============================] - 0s 183us/step - loss: 21.0433 - val_loss: 23.9673\n"
          ],
          "name": "stdout"
        },
        {
          "output_type": "execute_result",
          "data": {
            "text/plain": [
              "<keras.callbacks.History at 0x7fea9bebd668>"
            ]
          },
          "metadata": {
            "tags": []
          },
          "execution_count": 26
        }
      ]
    },
    {
      "cell_type": "code",
      "metadata": {
        "id": "epB3Ej9i7TXS",
        "colab_type": "code",
        "colab": {}
      },
      "source": [
        "model.save(\"housing_prices_stats_model.h5\")"
      ],
      "execution_count": 0,
      "outputs": []
    },
    {
      "cell_type": "code",
      "metadata": {
        "id": "Ujfgm7O47sPT",
        "colab_type": "code",
        "outputId": "a26c6eb4-9a3f-4ed9-8c72-09b549edda1e",
        "colab": {
          "base_uri": "https://localhost:8080/",
          "height": 51
        }
      },
      "source": [
        "import locale\n",
        "\n",
        "preds = model.predict(test_X)\n",
        "\n",
        "diff = preds.flatten() - test_y\n",
        "percent_diff = (diff / test_y) * 100\n",
        "abs_percent_diff = np.abs(percent_diff)\n",
        "\n",
        "mean = np.mean(abs_percent_diff)\n",
        "std  = np.std(abs_percent_diff)\n",
        "\n",
        "print(\"avg. house price: ${:.2f}, std house price: ${:.2f}\".format(\n",
        "    df[\"price\"].mean(), df[\"price\"].std()))\n",
        "\n",
        "print(\"mean: {:.2f}%, std: {:.2f}%\".format(mean, std))"
      ],
      "execution_count": 28,
      "outputs": [
        {
          "output_type": "stream",
          "text": [
            "avg. house price: $533388.27, std house price: $493403.08\n",
            "mean: 23.97%, std: 23.06%\n"
          ],
          "name": "stdout"
        }
      ]
    },
    {
      "cell_type": "code",
      "metadata": {
        "id": "TliCWQWz9FuF",
        "colab_type": "code",
        "colab": {}
      },
      "source": [
        "from google.colab import files\n",
        "files.download(\"housing_prices_stats_model.h5\")"
      ],
      "execution_count": 0,
      "outputs": []
    },
    {
      "cell_type": "code",
      "metadata": {
        "id": "A5e5Mddz_pYi",
        "colab_type": "code",
        "colab": {}
      },
      "source": [
        ""
      ],
      "execution_count": 0,
      "outputs": []
    }
  ]
}